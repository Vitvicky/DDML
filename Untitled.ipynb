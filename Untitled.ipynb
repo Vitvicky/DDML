{
 "cells": [
  {
   "cell_type": "code",
   "execution_count": 2,
   "metadata": {},
   "outputs": [],
   "source": [
    "from softmax import *"
   ]
  },
  {
   "cell_type": "code",
   "execution_count": 2,
   "metadata": {},
   "outputs": [],
   "source": [
    "test_label = 0\n",
    "\n",
    "train_epoch_number = 1000\n",
    "train_batch_size = 1\n",
    "test_data_size = 1\n",
    "\n",
    "layer_shape = (784, 1568, 196)"
   ]
  },
  {
   "cell_type": "code",
   "execution_count": 3,
   "metadata": {},
   "outputs": [],
   "source": [
    "net = DDMLNet(layer_shape, beta=2.5, tao=20.0, b=5.0, learning_rate=0.001)"
   ]
  },
  {
   "cell_type": "code",
   "execution_count": 4,
   "metadata": {},
   "outputs": [],
   "source": [
    "test_data = DDMLDataset(label=test_label, size=test_data_size)\n",
    "test_data_loader = DataLoader(dataset=test_data)"
   ]
  },
  {
   "cell_type": "code",
   "execution_count": 5,
   "metadata": {},
   "outputs": [
    {
     "data": {
      "text/plain": [
       "DDMLNet(\n",
       "  (layer0): Linear(in_features=784, out_features=1568, bias=True)\n",
       "  (layer1): Linear(in_features=1568, out_features=196, bias=True)\n",
       "  (softmax_layer): Linear(in_features=196, out_features=10, bias=True)\n",
       "  (softmax): Softmax()\n",
       ")"
      ]
     },
     "execution_count": 5,
     "metadata": {},
     "output_type": "execute_result"
    }
   ],
   "source": [
    "net"
   ]
  },
  {
   "cell_type": "code",
   "execution_count": 7,
   "metadata": {},
   "outputs": [
    {
     "name": "stdout",
     "output_type": "stream",
     "text": [
      "0\n",
      "Variable containing:\n",
      " 0.0966  0.1093  0.1085  0.1053  0.1067  0.0988  0.0911  0.0873  0.1039  0.0925\n",
      "[torch.FloatTensor of size 1x10]\n",
      "\n",
      "4\n",
      "Variable containing:\n",
      " 0.1036  0.1207  0.1008  0.1009  0.0897  0.0921  0.0962  0.0724  0.1155  0.1080\n",
      "[torch.FloatTensor of size 1x10]\n",
      "\n"
     ]
    }
   ],
   "source": [
    "for si, sj in test_data_loader:\n",
    "    xi = Variable(si[0])\n",
    "    yi = int(si[1])\n",
    "    xj = Variable(sj[0])\n",
    "    yj = int(sj[1])\n",
    "    \n",
    "    print(yi)\n",
    "    print(net.softmax_forward(xi))\n",
    "    print(yj)\n",
    "    print(net.softmax_forward(xj))"
   ]
  },
  {
   "cell_type": "code",
   "execution_count": 15,
   "metadata": {},
   "outputs": [],
   "source": [
    "for epoch in range(train_epoch_number):\n",
    "    train_data = DDMLDataset(label=test_label, size=train_batch_size)\n",
    "    train_data_loader = DataLoader(dataset=train_data)\n",
    "    net._softmax_backward(train_data_loader)"
   ]
  },
  {
   "cell_type": "code",
   "execution_count": 16,
   "metadata": {},
   "outputs": [
    {
     "name": "stdout",
     "output_type": "stream",
     "text": [
      "0\n",
      "Variable containing:\n",
      " 0.3398  0.0760  0.0724  0.0751  0.0735  0.0743  0.0691  0.0749  0.0738  0.0712\n",
      "[torch.FloatTensor of size 1x10]\n",
      "\n",
      "4\n",
      "Variable containing:\n",
      " 0.4445  0.0611  0.0611  0.0612  0.0609  0.0617  0.0612  0.0637  0.0616  0.0630\n",
      "[torch.FloatTensor of size 1x10]\n",
      "\n"
     ]
    }
   ],
   "source": [
    "for si, sj in test_data_loader:\n",
    "    xi = Variable(si[0])\n",
    "    yi = int(si[1])\n",
    "    xj = Variable(sj[0])\n",
    "    yj = int(sj[1])\n",
    "    \n",
    "    print(yi)\n",
    "    print(net.softmax_forward(xi))\n",
    "    print(yj)\n",
    "    print(net.softmax_forward(xj))"
   ]
  },
  {
   "cell_type": "code",
   "execution_count": 3,
   "metadata": {},
   "outputs": [],
   "source": [
    "t = torch.rand(1,10)"
   ]
  },
  {
   "cell_type": "code",
   "execution_count": 4,
   "metadata": {},
   "outputs": [
    {
     "data": {
      "text/plain": [
       "\n",
       " 0.1448  0.0963  0.7953  0.4409  0.9887  0.2172  0.6934  0.7599  0.6490  0.3451\n",
       "[torch.FloatTensor of size 1x10]"
      ]
     },
     "execution_count": 4,
     "metadata": {},
     "output_type": "execute_result"
    }
   ],
   "source": [
    "t"
   ]
  },
  {
   "cell_type": "code",
   "execution_count": 8,
   "metadata": {},
   "outputs": [
    {
     "data": {
      "text/plain": [
       "\n",
       " 4\n",
       "[torch.LongTensor of size 1]"
      ]
     },
     "execution_count": 8,
     "metadata": {},
     "output_type": "execute_result"
    }
   ],
   "source": [
    "torch.max(t, 1)[1]"
   ]
  },
  {
   "cell_type": "code",
   "execution_count": 12,
   "metadata": {},
   "outputs": [
    {
     "name": "stdout",
     "output_type": "stream",
     "text": [
      "0\n",
      "1\n",
      "2\n",
      "6\n",
      "84\n",
      "22\n"
     ]
    }
   ],
   "source": [
    "for _ in set([1,2,6,84,22,0]):\n",
    "    print(_)"
   ]
  },
  {
   "cell_type": "code",
   "execution_count": 14,
   "metadata": {},
   "outputs": [],
   "source": [
    "from sklearn.metrics import confusion_matrix"
   ]
  },
  {
   "cell_type": "code",
   "execution_count": 29,
   "metadata": {},
   "outputs": [],
   "source": [
    "true = [1,2]\n",
    "pred = [1,3]"
   ]
  },
  {
   "cell_type": "code",
   "execution_count": 30,
   "metadata": {},
   "outputs": [
    {
     "data": {
      "text/plain": [
       "array([[1, 0, 0],\n",
       "       [0, 0, 1],\n",
       "       [0, 0, 0]])"
      ]
     },
     "execution_count": 30,
     "metadata": {},
     "output_type": "execute_result"
    }
   ],
   "source": [
    "confusion_matrix(true, pred, labels=sorted(set([1,2,3])))"
   ]
  },
  {
   "cell_type": "code",
   "execution_count": null,
   "metadata": {},
   "outputs": [],
   "source": []
  }
 ],
 "metadata": {
  "kernelspec": {
   "display_name": "Python 3",
   "language": "python",
   "name": "python3"
  },
  "language_info": {
   "codemirror_mode": {
    "name": "ipython",
    "version": 3
   },
   "file_extension": ".py",
   "mimetype": "text/x-python",
   "name": "python",
   "nbconvert_exporter": "python",
   "pygments_lexer": "ipython3",
   "version": "3.6.5"
  }
 },
 "nbformat": 4,
 "nbformat_minor": 2
}
