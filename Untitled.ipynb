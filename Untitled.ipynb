{
 "cells": [
  {
   "cell_type": "code",
   "execution_count": 1,
   "metadata": {},
   "outputs": [],
   "source": [
    "from softmax import *"
   ]
  },
  {
   "cell_type": "code",
   "execution_count": 2,
   "metadata": {},
   "outputs": [],
   "source": [
    "test_label = 0\n",
    "\n",
    "train_epoch_number = 1000\n",
    "train_batch_size = 10\n",
    "test_data_size = 1\n",
    "\n",
    "layer_shape = (784, 1568, 196)"
   ]
  },
  {
   "cell_type": "code",
   "execution_count": 3,
   "metadata": {},
   "outputs": [],
   "source": [
    "net = DDMLNet(layer_shape, beta=2.5, tao=20.0, b=5.0, learning_rate=0.001)"
   ]
  },
  {
   "cell_type": "code",
   "execution_count": 4,
   "metadata": {},
   "outputs": [],
   "source": [
    "test_data = DDMLDataset(label=test_label, size=test_data_size)\n",
    "test_data_loader = DataLoader(dataset=test_data)"
   ]
  },
  {
   "cell_type": "code",
   "execution_count": 5,
   "metadata": {},
   "outputs": [
    {
     "data": {
      "text/plain": [
       "DDMLNet(\n",
       "  (layer0): Linear(in_features=784, out_features=1568, bias=True)\n",
       "  (layer1): Linear(in_features=1568, out_features=196, bias=True)\n",
       "  (softmax_layer): Linear(in_features=196, out_features=10, bias=True)\n",
       "  (softmax): Softmax()\n",
       ")"
      ]
     },
     "execution_count": 5,
     "metadata": {},
     "output_type": "execute_result"
    }
   ],
   "source": [
    "net"
   ]
  },
  {
   "cell_type": "code",
   "execution_count": 6,
   "metadata": {},
   "outputs": [],
   "source": [
    "for epoch in range(train_epoch_number):\n",
    "    train_data = DDMLDataset(label=test_label, size=train_batch_size)\n",
    "    train_data_loader = DataLoader(dataset=train_data)\n",
    "    net._softmax_backward(train_data_loader)"
   ]
  },
  {
   "cell_type": "code",
   "execution_count": 7,
   "metadata": {},
   "outputs": [
    {
     "name": "stdout",
     "output_type": "stream",
     "text": [
      "0\n",
      "Variable containing:\n",
      " 0.4482  0.0637  0.0610  0.0610  0.0608  0.0610  0.0610  0.0607  0.0610  0.0614\n",
      "[torch.FloatTensor of size 1x10]\n",
      "\n"
     ]
    }
   ],
   "source": [
    "for si, sj in test_data_loader:\n",
    "    xi = Variable(si[0])\n",
    "    yi = int(si[1])\n",
    "    xj = Variable(sj[0])\n",
    "    yj = int(sj[1])\n",
    "    \n",
    "    print(yi)\n",
    "    print(net.softmax_forward(xi))\n",
    "    "
   ]
  }
 ],
 "metadata": {
  "kernelspec": {
   "display_name": "Python 3",
   "language": "python",
   "name": "python3"
  },
  "language_info": {
   "codemirror_mode": {
    "name": "ipython",
    "version": 3
   },
   "file_extension": ".py",
   "mimetype": "text/x-python",
   "name": "python",
   "nbconvert_exporter": "python",
   "pygments_lexer": "ipython3",
   "version": "3.6.5"
  }
 },
 "nbformat": 4,
 "nbformat_minor": 2
}
